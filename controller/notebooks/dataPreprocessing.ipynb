{
 "cells": [
  {
   "cell_type": "code",
   "execution_count": 3,
   "metadata": {},
   "outputs": [],
   "source": [
    "import os\n",
    "import sys\n",
    "from dotenv import load_dotenv\n",
    "load_dotenv()\n",
    "sys.path.append(os.getenv('PYTHONPATH'))\n",
    "\n",
    "\n",
    "from configs.config import config\n",
    "from src.data.DataLoader import DataLoader\n",
    "\n",
    "\n",
    "\n",
    "# configuration  path data\n",
    "base_path = '../..'  #main path to the project\n",
    "\n",
    "original_data_path = config['input_paths']['raw_data_path'].format(base_path=base_path)\n"
   ]
  },
  {
   "cell_type": "code",
   "execution_count": 5,
   "metadata": {},
   "outputs": [
    {
     "name": "stdout",
     "output_type": "stream",
     "text": [
      "    ï»¿Experimento   Sensor   Valor de referencia(Cm)   M1  M2  M3   M4  M5  \\\n",
      "0                 1        1                         3   3   3   3    3   3   \n",
      "1                 1        1                         5   5   6   5    5   5   \n",
      "2                 1        1                        10  10  10  10   11  10   \n",
      "3                 1        1                        15  15  15  15   15  15   \n",
      "4                 1        1                        20  20  20  21   20  21   \n",
      "5                 1        1                        25  25  25  25   25  25   \n",
      "6                 1        1                        30  30  30  31   31  30   \n",
      "7                 1        1                        35  35  35  35   35  35   \n",
      "8                 1        0                         3   4   4   4    4   3   \n",
      "9                 1        0                         5   5   5   5    5   6   \n",
      "10                1        0                        10  10  11  10   10  10   \n",
      "11                1        0                        15  16  15  16   15  16   \n",
      "12                1        0                        20  21  21  21   21  21   \n",
      "13                1        0                        25  26  26  26   25  26   \n",
      "14                1        0                        30  30  31  31   32  31   \n",
      "15                1        0                        35  36  36  37   37  37   \n",
      "16                2        1                         3   3   3   4    4   3   \n",
      "17                2        1                         5   5   5   5    5   5   \n",
      "18                2        1                        10  10  10  10   10  10   \n",
      "19                2        1                        15  16  15  15   15  15   \n",
      "20                2        1                        20  21  20  21   20  20   \n",
      "21                2        1                        25  25  25  26   25  25   \n",
      "22                2        1                        30  30  31  30   30  31   \n",
      "23                2        1                        35  36  35  35   35  35   \n",
      "24                2        0                         3   3   4   3    4   4   \n",
      "25                2        0                         5   5   6   6    5   5   \n",
      "26                2        0                        10  10  10  10   10  11   \n",
      "27                2        0                        15  16  16  16  116  16   \n",
      "28                2        0                        20  21  21  21   21  21   \n",
      "29                2        0                        25  26  26  26   26  26   \n",
      "30                2        0                        30  31  31  31   31  31   \n",
      "31                2        0                        35  36  37  36   37  35   \n",
      "\n",
      "    M6  M7  M8  M9  M10  M11  M12  M13  M14  M15  \n",
      "0    3   3   4   4    3    3    3    3    3    3  \n",
      "1    5   5   5   5    6    5    5    5    5    5  \n",
      "2   10  10  10  10   10   10   10   10   10   10  \n",
      "3   15  15  16  15   15   15   16   15   15   16  \n",
      "4   20  21  20  21   20   21   20   21   20   21  \n",
      "5   25  25  25  26   25   25   25   25   25   25  \n",
      "6   30  30  30  30   30   30   30   30   30   30  \n",
      "7   35  35  35  34   35   35   35   35   35   35  \n",
      "8    4   3   4   4    4    3    4    4    4    4  \n",
      "9    5   6   5   6    5    5    6    6    6    6  \n",
      "10  10  10  11  11   11   11   11   10   11   11  \n",
      "11  16  16  16  15   16   16   16   16   16   16  \n",
      "12  21  21  21  21   21   20   21   20   21   20  \n",
      "13  25  25  26  25   26   25   25   25   25   25  \n",
      "14  31  31  31  30   31   31   31   31   31   31  \n",
      "15  36  36  36  36   36   36   36   36   36   36  \n",
      "16   3   3   3   3    3    3    4    3    3    3  \n",
      "17   6   5   5   5    5    5    5    5    5    6  \n",
      "18  10  10  10  10   10   10   10   11   11   10  \n",
      "19  15  15  15  15   15   15   15   15   15   16  \n",
      "20  21  20  20  20   20   20   20   20   20   20  \n",
      "21  25  25  25  25   25   25   25   25   26   25  \n",
      "22  30  30  30  30   30   30   30   31   30   30  \n",
      "23  35  35  35  35   35   35   35   35   35   36  \n",
      "24   4   3   4   4    3    4    4    3    4    4  \n",
      "25   5   6   5   5    5    5    5    5    6    5  \n",
      "26  11  11  11  11   10   11   11   10   10   11  \n",
      "27  16  16  15  15   16   16   16   16   16   16  \n",
      "28  21  21  21  21   20   21   21   21   21   20  \n",
      "29  26  25  25  25   25   25   26   25   25   25  \n",
      "30  30  31  31  30   30   31   30   31   31   31  \n",
      "31  36  37  36  36   37   36   36   36   36   36  \n"
     ]
    }
   ],
   "source": [
    "data_csv = DataLoader.load_data_csv(original_data_path)\n",
    "print(data_csv)"
   ]
  }
 ],
 "metadata": {
  "kernelspec": {
   "display_name": "Python 3",
   "language": "python",
   "name": "python3"
  },
  "language_info": {
   "codemirror_mode": {
    "name": "ipython",
    "version": 3
   },
   "file_extension": ".py",
   "mimetype": "text/x-python",
   "name": "python",
   "nbconvert_exporter": "python",
   "pygments_lexer": "ipython3",
   "version": "3.12.2"
  }
 },
 "nbformat": 4,
 "nbformat_minor": 2
}
